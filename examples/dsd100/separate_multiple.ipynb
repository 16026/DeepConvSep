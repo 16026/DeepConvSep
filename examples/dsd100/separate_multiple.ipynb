{
 "cells": [
  {
   "cell_type": "code",
   "execution_count": 79,
   "metadata": {
    "collapsed": true,
    "deletable": true,
    "editable": true
   },
   "outputs": [],
   "source": [
    "import os"
   ]
  },
  {
   "cell_type": "code",
   "execution_count": 99,
   "metadata": {
    "collapsed": false,
    "deletable": true,
    "editable": true
   },
   "outputs": [],
   "source": [
    "#cwd = os.getcwd()\n",
    "cwd = \"/Volumes/Pendrive/Datasets/DSD100/Mixtures/Dev\""
   ]
  },
  {
   "cell_type": "code",
   "execution_count": 100,
   "metadata": {
    "collapsed": false,
    "deletable": true,
    "editable": true
   },
   "outputs": [
    {
     "name": "stdout",
     "output_type": "stream",
     "text": [
      "/Volumes/Pendrive/Datasets/DSD100/Mixtures/Dev/079 - Mu - Too Bright\n"
     ]
    }
   ],
   "source": [
    "y = [x[0] for x in os.walk(cwd)]\n",
    "print y[50]"
   ]
  },
  {
   "cell_type": "code",
   "execution_count": 101,
   "metadata": {
    "collapsed": false,
    "deletable": true,
    "editable": true
   },
   "outputs": [
    {
     "name": "stdout",
     "output_type": "stream",
     "text": [
      "/Volumes/fatty/output100/Dev/100 - Young Griffo - Pennies\n",
      "/Volumes/fatty/output100/Dev/100\\ -\\ Young\\ Griffo\\ -\\ Pennies\n",
      "/Volumes/Pendrive/Datasets/DSD100/Mixtures/Dev/100\\ -\\ Young\\ Griffo\\ -\\ Pennies\n",
      "/Volumes/fatty/output100/Dev/099 - Young Griffo - Blood To Bone\n",
      "/Volumes/fatty/output100/Dev/099\\ -\\ Young\\ Griffo\\ -\\ Blood\\ To\\ Bone\n",
      "/Volumes/Pendrive/Datasets/DSD100/Mixtures/Dev/099\\ -\\ Young\\ Griffo\\ -\\ Blood\\ To\\ Bone\n",
      "/Volumes/fatty/output100/Dev/098 - Wall Of Death - Femme\n",
      "/Volumes/fatty/output100/Dev/098\\ -\\ Wall\\ Of\\ Death\\ -\\ Femme\n",
      "/Volumes/Pendrive/Datasets/DSD100/Mixtures/Dev/098\\ -\\ Wall\\ Of\\ Death\\ -\\ Femme\n",
      "/Volumes/fatty/output100/Dev/097 - Triviul feat. The Fiend - Widow\n",
      "/Volumes/fatty/output100/Dev/097\\ -\\ Triviul\\ feat.\\ The\\ Fiend\\ -\\ Widow\n",
      "/Volumes/Pendrive/Datasets/DSD100/Mixtures/Dev/097\\ -\\ Triviul\\ feat.\\ The\\ Fiend\\ -\\ Widow\n",
      "/Volumes/fatty/output100/Dev/096 - Triviul - Angelsaint\n",
      "/Volumes/fatty/output100/Dev/096\\ -\\ Triviul\\ -\\ Angelsaint\n",
      "/Volumes/Pendrive/Datasets/DSD100/Mixtures/Dev/096\\ -\\ Triviul\\ -\\ Angelsaint\n",
      "/Volumes/fatty/output100/Dev/095 - Traffic Experiment - Once More (With Feeling)\n",
      "/Volumes/fatty/output100/Dev/095\\ -\\ Traffic\\ Experiment\\ -\\ Once\\ More\\ (With\\ Feeling)\n",
      "/Volumes/Pendrive/Datasets/DSD100/Mixtures/Dev/095\\ -\\ Traffic\\ Experiment\\ -\\ Once\\ More\\ (With\\ Feeling)\n",
      "/Volumes/fatty/output100/Dev/094 - Titanium - Haunted Age\n",
      "/Volumes/fatty/output100/Dev/094\\ -\\ Titanium\\ -\\ Haunted\\ Age\n",
      "/Volumes/Pendrive/Datasets/DSD100/Mixtures/Dev/094\\ -\\ Titanium\\ -\\ Haunted\\ Age\n",
      "/Volumes/fatty/output100/Dev/093 - Tim Taler - Stalker\n",
      "/Volumes/fatty/output100/Dev/093\\ -\\ Tim\\ Taler\\ -\\ Stalker\n",
      "/Volumes/Pendrive/Datasets/DSD100/Mixtures/Dev/093\\ -\\ Tim\\ Taler\\ -\\ Stalker\n",
      "/Volumes/fatty/output100/Dev/092 - The Sunshine Garcia Band - For I Am The Moon\n",
      "/Volumes/fatty/output100/Dev/092\\ -\\ The\\ Sunshine\\ Garcia\\ Band\\ -\\ For\\ I\\ Am\\ The\\ Moon\n",
      "/Volumes/Pendrive/Datasets/DSD100/Mixtures/Dev/092\\ -\\ The\\ Sunshine\\ Garcia\\ Band\\ -\\ For\\ I\\ Am\\ The\\ Moon\n",
      "/Volumes/fatty/output100/Dev/091 - The Long Wait - Dark Horses\n",
      "/Volumes/fatty/output100/Dev/091\\ -\\ The\\ Long\\ Wait\\ -\\ Dark\\ Horses\n",
      "/Volumes/Pendrive/Datasets/DSD100/Mixtures/Dev/091\\ -\\ The\\ Long\\ Wait\\ -\\ Dark\\ Horses\n",
      "/Volumes/fatty/output100/Dev/089 - St Vitus - Word Gets Around\n",
      "/Volumes/fatty/output100/Dev/089\\ -\\ St\\ Vitus\\ -\\ Word\\ Gets\\ Around\n",
      "/Volumes/Pendrive/Datasets/DSD100/Mixtures/Dev/089\\ -\\ St\\ Vitus\\ -\\ Word\\ Gets\\ Around\n",
      "/Volumes/fatty/output100/Dev/088 - Speak Softly - Like Horses\n",
      "/Volumes/fatty/output100/Dev/088\\ -\\ Speak\\ Softly\\ -\\ Like\\ Horses\n",
      "/Volumes/Pendrive/Datasets/DSD100/Mixtures/Dev/088\\ -\\ Speak\\ Softly\\ -\\ Like\\ Horses\n",
      "/Volumes/fatty/output100/Dev/087 - Skelpolu - Together Alone\n",
      "/Volumes/fatty/output100/Dev/087\\ -\\ Skelpolu\\ -\\ Together\\ Alone\n",
      "/Volumes/Pendrive/Datasets/DSD100/Mixtures/Dev/087\\ -\\ Skelpolu\\ -\\ Together\\ Alone\n",
      "/Volumes/fatty/output100/Dev/086 - Skelpolu - Human Mistakes\n",
      "/Volumes/fatty/output100/Dev/086\\ -\\ Skelpolu\\ -\\ Human\\ Mistakes\n",
      "/Volumes/Pendrive/Datasets/DSD100/Mixtures/Dev/086\\ -\\ Skelpolu\\ -\\ Human\\ Mistakes\n",
      "/Volumes/fatty/output100/Dev/085 - Side Effects Project - Sing With Me\n",
      "/Volumes/fatty/output100/Dev/085\\ -\\ Side\\ Effects\\ Project\\ -\\ Sing\\ With\\ Me\n",
      "/Volumes/Pendrive/Datasets/DSD100/Mixtures/Dev/085\\ -\\ Side\\ Effects\\ Project\\ -\\ Sing\\ With\\ Me\n",
      "/Volumes/fatty/output100/Dev/084 - Secretariat - Borderline\n",
      "/Volumes/fatty/output100/Dev/084\\ -\\ Secretariat\\ -\\ Borderline\n",
      "/Volumes/Pendrive/Datasets/DSD100/Mixtures/Dev/084\\ -\\ Secretariat\\ -\\ Borderline\n",
      "/Volumes/fatty/output100/Dev/083 - Remember December - C U Next Time\n",
      "/Volumes/fatty/output100/Dev/083\\ -\\ Remember\\ December\\ -\\ C\\ U\\ Next\\ Time\n",
      "/Volumes/Pendrive/Datasets/DSD100/Mixtures/Dev/083\\ -\\ Remember\\ December\\ -\\ C\\ U\\ Next\\ Time\n",
      "/Volumes/fatty/output100/Dev/082 - Punkdisco - Oral Hygiene\n",
      "/Volumes/fatty/output100/Dev/082\\ -\\ Punkdisco\\ -\\ Oral\\ Hygiene\n",
      "/Volumes/Pendrive/Datasets/DSD100/Mixtures/Dev/082\\ -\\ Punkdisco\\ -\\ Oral\\ Hygiene\n",
      "/Volumes/fatty/output100/Dev/081 - Patrick Talbot - Set Me Free\n",
      "/Volumes/fatty/output100/Dev/081\\ -\\ Patrick\\ Talbot\\ -\\ Set\\ Me\\ Free\n",
      "/Volumes/Pendrive/Datasets/DSD100/Mixtures/Dev/081\\ -\\ Patrick\\ Talbot\\ -\\ Set\\ Me\\ Free\n",
      "/Volumes/fatty/output100/Dev/080 - North To Alaska - All The Same\n",
      "/Volumes/fatty/output100/Dev/080\\ -\\ North\\ To\\ Alaska\\ -\\ All\\ The\\ Same\n",
      "/Volumes/Pendrive/Datasets/DSD100/Mixtures/Dev/080\\ -\\ North\\ To\\ Alaska\\ -\\ All\\ The\\ Same\n",
      "/Volumes/fatty/output100/Dev/078 - Moosmusic - Big Dummy Shake\n",
      "/Volumes/fatty/output100/Dev/078\\ -\\ Moosmusic\\ -\\ Big\\ Dummy\\ Shake\n",
      "/Volumes/Pendrive/Datasets/DSD100/Mixtures/Dev/078\\ -\\ Moosmusic\\ -\\ Big\\ Dummy\\ Shake\n",
      "/Volumes/fatty/output100/Dev/077 - Lyndsey Ollard - Catching Up\n",
      "/Volumes/fatty/output100/Dev/077\\ -\\ Lyndsey\\ Ollard\\ -\\ Catching\\ Up\n",
      "/Volumes/Pendrive/Datasets/DSD100/Mixtures/Dev/077\\ -\\ Lyndsey\\ Ollard\\ -\\ Catching\\ Up\n",
      "/Volumes/fatty/output100/Dev/076 - Little Chicago's Finest - My Own\n",
      "/Volumes/fatty/output100/Dev/076\\ -\\ Little\\ Chicago's\\ Finest\\ -\\ My\\ Own\n",
      "/Volumes/Pendrive/Datasets/DSD100/Mixtures/Dev/076\\ -\\ Little\\ Chicago's\\ Finest\\ -\\ My\\ Own\n",
      "/Volumes/fatty/output100/Dev/075 - Leaf - Summerghost\n",
      "/Volumes/fatty/output100/Dev/075\\ -\\ Leaf\\ -\\ Summerghost\n",
      "/Volumes/Pendrive/Datasets/DSD100/Mixtures/Dev/075\\ -\\ Leaf\\ -\\ Summerghost\n",
      "/Volumes/fatty/output100/Dev/074 - Juliet's Rescue - Heartbeats\n",
      "/Volumes/fatty/output100/Dev/074\\ -\\ Juliet's\\ Rescue\\ -\\ Heartbeats\n",
      "/Volumes/Pendrive/Datasets/DSD100/Mixtures/Dev/074\\ -\\ Juliet's\\ Rescue\\ -\\ Heartbeats\n",
      "/Volumes/fatty/output100/Dev/073 - Johnny Lokke - Whisper To A Scream\n",
      "/Volumes/fatty/output100/Dev/073\\ -\\ Johnny\\ Lokke\\ -\\ Whisper\\ To\\ A\\ Scream\n",
      "/Volumes/Pendrive/Datasets/DSD100/Mixtures/Dev/073\\ -\\ Johnny\\ Lokke\\ -\\ Whisper\\ To\\ A\\ Scream\n",
      "/Volumes/fatty/output100/Dev/072 - Jay Menon - Through My Eyes\n",
      "/Volumes/fatty/output100/Dev/072\\ -\\ Jay\\ Menon\\ -\\ Through\\ My\\ Eyes\n",
      "/Volumes/Pendrive/Datasets/DSD100/Mixtures/Dev/072\\ -\\ Jay\\ Menon\\ -\\ Through\\ My\\ Eyes\n",
      "/Volumes/fatty/output100/Dev/071 - James May - If You Say\n",
      "/Volumes/fatty/output100/Dev/071\\ -\\ James\\ May\\ -\\ If\\ You\\ Say\n",
      "/Volumes/Pendrive/Datasets/DSD100/Mixtures/Dev/071\\ -\\ James\\ May\\ -\\ If\\ You\\ Say\n",
      "/Volumes/fatty/output100/Dev/070 - James May - All Souls Moon\n",
      "/Volumes/fatty/output100/Dev/070\\ -\\ James\\ May\\ -\\ All\\ Souls\\ Moon\n",
      "/Volumes/Pendrive/Datasets/DSD100/Mixtures/Dev/070\\ -\\ James\\ May\\ -\\ All\\ Souls\\ Moon\n",
      "/Volumes/fatty/output100/Dev/069 - Hollow Ground - Left Blind\n",
      "/Volumes/fatty/output100/Dev/069\\ -\\ Hollow\\ Ground\\ -\\ Left\\ Blind\n",
      "/Volumes/Pendrive/Datasets/DSD100/Mixtures/Dev/069\\ -\\ Hollow\\ Ground\\ -\\ Left\\ Blind\n",
      "/Volumes/fatty/output100/Dev/068 - Giselle - Moss\n",
      "/Volumes/fatty/output100/Dev/068\\ -\\ Giselle\\ -\\ Moss\n",
      "/Volumes/Pendrive/Datasets/DSD100/Mixtures/Dev/068\\ -\\ Giselle\\ -\\ Moss\n",
      "/Volumes/fatty/output100/Dev/067 - Georgia Wonder - Siren\n",
      "/Volumes/fatty/output100/Dev/067\\ -\\ Georgia\\ Wonder\\ -\\ Siren\n",
      "/Volumes/Pendrive/Datasets/DSD100/Mixtures/Dev/067\\ -\\ Georgia\\ Wonder\\ -\\ Siren\n",
      "/Volumes/fatty/output100/Dev/066 - Flags - 54\n",
      "/Volumes/fatty/output100/Dev/066\\ -\\ Flags\\ -\\ 54\n",
      "/Volumes/Pendrive/Datasets/DSD100/Mixtures/Dev/066\\ -\\ Flags\\ -\\ 54\n",
      "/Volumes/fatty/output100/Dev/065 - Fergessen - Nos Palpitants\n",
      "/Volumes/fatty/output100/Dev/065\\ -\\ Fergessen\\ -\\ Nos\\ Palpitants\n",
      "/Volumes/Pendrive/Datasets/DSD100/Mixtures/Dev/065\\ -\\ Fergessen\\ -\\ Nos\\ Palpitants\n",
      "/Volumes/fatty/output100/Dev/064 - Enda Reilly - Cur An Long Ag Seol\n",
      "/Volumes/fatty/output100/Dev/064\\ -\\ Enda\\ Reilly\\ -\\ Cur\\ An\\ Long\\ Ag\\ Seol\n",
      "/Volumes/Pendrive/Datasets/DSD100/Mixtures/Dev/064\\ -\\ Enda\\ Reilly\\ -\\ Cur\\ An\\ Long\\ Ag\\ Seol\n",
      "/Volumes/fatty/output100/Dev/090 - The Doppler Shift - Atrophy\n",
      "/Volumes/fatty/output100/Dev/090\\ -\\ The\\ Doppler\\ Shift\\ -\\ Atrophy\n",
      "/Volumes/Pendrive/Datasets/DSD100/Mixtures/Dev/090\\ -\\ The\\ Doppler\\ Shift\\ -\\ Atrophy\n",
      "/Volumes/fatty/output100/Dev/063 - Detsky Sad - Walkie Talkie\n",
      "/Volumes/fatty/output100/Dev/063\\ -\\ Detsky\\ Sad\\ -\\ Walkie\\ Talkie\n",
      "/Volumes/Pendrive/Datasets/DSD100/Mixtures/Dev/063\\ -\\ Detsky\\ Sad\\ -\\ Walkie\\ Talkie\n",
      "/Volumes/fatty/output100/Dev/062 - Cristina Vane - So Easy\n",
      "/Volumes/fatty/output100/Dev/062\\ -\\ Cristina\\ Vane\\ -\\ So\\ Easy\n",
      "/Volumes/Pendrive/Datasets/DSD100/Mixtures/Dev/062\\ -\\ Cristina\\ Vane\\ -\\ So\\ Easy\n",
      "/Volumes/fatty/output100/Dev/061 - Chris Durban - Celebrate\n",
      "/Volumes/fatty/output100/Dev/061\\ -\\ Chris\\ Durban\\ -\\ Celebrate\n",
      "/Volumes/Pendrive/Datasets/DSD100/Mixtures/Dev/061\\ -\\ Chris\\ Durban\\ -\\ Celebrate\n",
      "/Volumes/fatty/output100/Dev/060 - Buitraker - Revo X\n",
      "/Volumes/fatty/output100/Dev/060\\ -\\ Buitraker\\ -\\ Revo\\ X\n",
      "/Volumes/Pendrive/Datasets/DSD100/Mixtures/Dev/060\\ -\\ Buitraker\\ -\\ Revo\\ X\n",
      "/Volumes/fatty/output100/Dev/059 - Black Bloc - If You Want Success\n",
      "/Volumes/fatty/output100/Dev/059\\ -\\ Black\\ Bloc\\ -\\ If\\ You\\ Want\\ Success\n",
      "/Volumes/Pendrive/Datasets/DSD100/Mixtures/Dev/059\\ -\\ Black\\ Bloc\\ -\\ If\\ You\\ Want\\ Success\n",
      "/Volumes/fatty/output100/Dev/057 - BKS - Bulldozer\n",
      "/Volumes/fatty/output100/Dev/057\\ -\\ BKS\\ -\\ Bulldozer\n",
      "/Volumes/Pendrive/Datasets/DSD100/Mixtures/Dev/057\\ -\\ BKS\\ -\\ Bulldozer\n",
      "/Volumes/fatty/output100/Dev/058 - Ben Carrigan - We'll Talk About It All Tonight\n",
      "/Volumes/fatty/output100/Dev/058\\ -\\ Ben\\ Carrigan\\ -\\ We'll\\ Talk\\ About\\ It\\ All\\ Tonight\n",
      "/Volumes/Pendrive/Datasets/DSD100/Mixtures/Dev/058\\ -\\ Ben\\ Carrigan\\ -\\ We'll\\ Talk\\ About\\ It\\ All\\ Tonight\n",
      "/Volumes/fatty/output100/Dev/056 - Arise - Run Run Run\n",
      "/Volumes/fatty/output100/Dev/056\\ -\\ Arise\\ -\\ Run\\ Run\\ Run\n",
      "/Volumes/Pendrive/Datasets/DSD100/Mixtures/Dev/056\\ -\\ Arise\\ -\\ Run\\ Run\\ Run\n",
      "/Volumes/fatty/output100/Dev/052 - ANiMAL - Easy Tiger\n",
      "/Volumes/fatty/output100/Dev/052\\ -\\ ANiMAL\\ -\\ Easy\\ Tiger\n",
      "/Volumes/Pendrive/Datasets/DSD100/Mixtures/Dev/052\\ -\\ ANiMAL\\ -\\ Easy\\ Tiger\n",
      "/Volumes/fatty/output100/Dev/055 - Angels In Amplifiers - I'm Alright\n",
      "/Volumes/fatty/output100/Dev/055\\ -\\ Angels\\ In\\ Amplifiers\\ -\\ I'm\\ Alright\n",
      "/Volumes/Pendrive/Datasets/DSD100/Mixtures/Dev/055\\ -\\ Angels\\ In\\ Amplifiers\\ -\\ I'm\\ Alright\n",
      "/Volumes/fatty/output100/Dev/051 - AM Contra - Heart Peripheral\n",
      "/Volumes/fatty/output100/Dev/051\\ -\\ AM\\ Contra\\ -\\ Heart\\ Peripheral\n",
      "/Volumes/Pendrive/Datasets/DSD100/Mixtures/Dev/051\\ -\\ AM\\ Contra\\ -\\ Heart\\ Peripheral\n",
      "/Volumes/fatty/output100/Dev/054 - Actions - South Of The Water\n",
      "/Volumes/fatty/output100/Dev/054\\ -\\ Actions\\ -\\ South\\ Of\\ The\\ Water\n",
      "/Volumes/Pendrive/Datasets/DSD100/Mixtures/Dev/054\\ -\\ Actions\\ -\\ South\\ Of\\ The\\ Water\n",
      "/Volumes/fatty/output100/Dev/053 - Actions - Devil's Words\n",
      "/Volumes/fatty/output100/Dev/053\\ -\\ Actions\\ -\\ Devil's\\ Words\n",
      "/Volumes/Pendrive/Datasets/DSD100/Mixtures/Dev/053\\ -\\ Actions\\ -\\ Devil's\\ Words\n",
      "/Volumes/fatty/output100/Dev/079 - Mu - Too Bright\n",
      "/Volumes/fatty/output100/Dev/079\\ -\\ Mu\\ -\\ Too\\ Bright\n",
      "/Volumes/Pendrive/Datasets/DSD100/Mixtures/Dev/079\\ -\\ Mu\\ -\\ Too\\ Bright\n"
     ]
    }
   ],
   "source": [
    "for i in range(1,51):\n",
    "    \n",
    "    out_dir = \"/Volumes/fatty/output100/\" + y[i].split(\"/\")[6] + \"/\" + y[i].split(\"/\")[7]\n",
    "    \n",
    "    out_dir_w = out_dir.replace(\" \", \"\\ \")\n",
    "\n",
    "    data_dir = y[i].replace(\" \", \"\\ \")\n",
    "\n",
    "    print out_dir\n",
    "    print out_dir_w\n",
    "    print data_dir\n",
    "\n",
    "    if not os.path.exists(out_dir):\n",
    "        os.makedirs(out_dir)\n",
    "\n",
    "    os.system(\"python separate_dsd.py -i \" + data_dir + \"/mixture.wav\" + \" -o \" +  out_dir_w + \" -m model_dsd_fft_1024.pkl\")"
   ]
  },
  {
   "cell_type": "code",
   "execution_count": 62,
   "metadata": {
    "collapsed": false,
    "deletable": true,
    "editable": true
   },
   "outputs": [
    {
     "data": {
      "text/plain": [
       "'python separate_dsd.py -i /Users/gerard/DSD6/Mixtures/Test/006 - Atlantis Bound - It Was My Fault For Waiting/mixture.wav -o ./output/Test/006 - Atlantis Bound - It Was My Fault For Waiting -m model_dsd_fft_1024.pkl'"
      ]
     },
     "execution_count": 62,
     "metadata": {},
     "output_type": "execute_result"
    }
   ],
   "source": [
    "\"python separate_dsd.py -i \" + y[i] + \"/mixture.wav\" + \" -o \" +  \"./output/\" + y[i].split(\"/\")[5] + \"/\" + y[i].split(\"/\")[6] + \" -m model_dsd_fft_1024.pkl\""
   ]
  },
  {
   "cell_type": "code",
   "execution_count": null,
   "metadata": {
    "collapsed": true,
    "deletable": true,
    "editable": true
   },
   "outputs": [],
   "source": []
  }
 ],
 "metadata": {
  "kernelspec": {
   "display_name": "Python 2",
   "language": "python",
   "name": "python2"
  },
  "language_info": {
   "codemirror_mode": {
    "name": "ipython",
    "version": 2
   },
   "file_extension": ".py",
   "mimetype": "text/x-python",
   "name": "python",
   "nbconvert_exporter": "python",
   "pygments_lexer": "ipython2",
   "version": "2.7.13"
  }
 },
 "nbformat": 4,
 "nbformat_minor": 2
}
